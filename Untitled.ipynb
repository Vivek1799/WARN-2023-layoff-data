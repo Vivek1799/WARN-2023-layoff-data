{
 "cells": [
  {
   "cell_type": "code",
   "execution_count": 2,
   "id": "ee992d65",
   "metadata": {},
   "outputs": [
    {
     "name": "stdout",
     "output_type": "stream",
     "text": [
      "\u001b[31mERROR: Could not find a version that satisfies the requirement pdf-parse (from versions: none)\u001b[0m\u001b[31m\n",
      "\u001b[0m\u001b[31mERROR: No matching distribution found for pdf-parse\u001b[0m\u001b[31m\n",
      "\u001b[0m\n",
      "\u001b[1m[\u001b[0m\u001b[34;49mnotice\u001b[0m\u001b[1;39;49m]\u001b[0m\u001b[39;49m A new release of pip available: \u001b[0m\u001b[31;49m22.3\u001b[0m\u001b[39;49m -> \u001b[0m\u001b[32;49m23.0.1\u001b[0m\n",
      "\u001b[1m[\u001b[0m\u001b[34;49mnotice\u001b[0m\u001b[1;39;49m]\u001b[0m\u001b[39;49m To update, run: \u001b[0m\u001b[32;49mpip install --upgrade pip\u001b[0m\n"
     ]
    }
   ],
   "source": [
    "!pip install pdf-parse"
   ]
  },
  {
   "cell_type": "code",
   "execution_count": 3,
   "id": "5a219f9f",
   "metadata": {},
   "outputs": [
    {
     "ename": "ModuleNotFoundError",
     "evalue": "No module named 'pdf_parse'",
     "output_type": "error",
     "traceback": [
      "\u001b[0;31m---------------------------------------------------------------------------\u001b[0m",
      "\u001b[0;31mModuleNotFoundError\u001b[0m                       Traceback (most recent call last)",
      "Cell \u001b[0;32mIn [3], line 3\u001b[0m\n\u001b[1;32m      1\u001b[0m \u001b[38;5;28;01mimport\u001b[39;00m \u001b[38;5;21;01masyncio\u001b[39;00m\n\u001b[1;32m      2\u001b[0m \u001b[38;5;28;01mfrom\u001b[39;00m \u001b[38;5;21;01mplaywright\u001b[39;00m\u001b[38;5;21;01m.\u001b[39;00m\u001b[38;5;21;01masync_api\u001b[39;00m \u001b[38;5;28;01mimport\u001b[39;00m async_playwright\n\u001b[0;32m----> 3\u001b[0m \u001b[38;5;28;01mimport\u001b[39;00m \u001b[38;5;21;01mpdf_parse\u001b[39;00m\n\u001b[1;32m      4\u001b[0m \u001b[38;5;28;01mimport\u001b[39;00m \u001b[38;5;21;01mrequests\u001b[39;00m\n",
      "\u001b[0;31mModuleNotFoundError\u001b[0m: No module named 'pdf_parse'"
     ]
    }
   ],
   "source": [
    "import asyncio\n",
    "from playwright.async_api import async_playwright\n",
    "import pdf_parse\n",
    "import requests"
   ]
  },
  {
   "cell_type": "code",
   "execution_count": null,
   "id": "5a1a0c71",
   "metadata": {},
   "outputs": [],
   "source": [
    "async def scrape_pdf():\n",
    "    async with async_playwright() as p:\n",
    "        browser = await p.chromium.launch()\n",
    "        page = await browser.new_page()"
   ]
  },
  {
   "cell_type": "code",
   "execution_count": null,
   "id": "82defc5a",
   "metadata": {},
   "outputs": [],
   "source": [
    "# Navigate to the 2023 WARN notices site\n",
    "await page.goto('https://dol.ny.gov/warn-notices')"
   ]
  },
  {
   "cell_type": "code",
   "execution_count": null,
   "id": "d5a1d96e",
   "metadata": {},
   "outputs": [],
   "source": [
    "# Locate the PDF links on the page\n",
    "pdf_links = await page.eval_on_selector_all('a[href$=\".pdf\"]', 'links => links.map(link => link.href)')"
   ]
  },
  {
   "cell_type": "code",
   "execution_count": null,
   "id": "18bef135",
   "metadata": {},
   "outputs": [],
   "source": [
    "# Download and parse each PDF file\n",
    "        for link in pdf_links:\n",
    "            pdf_data = download_pdf(link)\n",
    "            pdf_text = parse_pdf(pdf_data)\n",
    "            print(pdf_text)"
   ]
  },
  {
   "cell_type": "code",
   "execution_count": null,
   "id": "f20f625e",
   "metadata": {},
   "outputs": [],
   "source": [
    "# Close the browser instance\n",
    "await browser.close()\n"
   ]
  },
  {
   "cell_type": "code",
   "execution_count": null,
   "id": "d6715f65",
   "metadata": {},
   "outputs": [],
   "source": [
    "def download_pdf(url):\n",
    "    response = requests.get(url)\n",
    "    if response.status_code == 200:\n",
    "        return response.content\n",
    "    else:\n",
    "        raise Exception(f\"Failed to download PDF: {response.status_code}\")\n"
   ]
  },
  {
   "cell_type": "code",
   "execution_count": null,
   "id": "b3c67786",
   "metadata": {},
   "outputs": [],
   "source": [
    "def parse_pdf(buffer):\n",
    "    try:\n",
    "        data = pdf_parse.parse_pdf_buffer(buffer)\n",
    "        return data[\"text\"]\n",
    "    except Exception as e:\n",
    "        print(f\"Error parsing PDF: {e}\")\n",
    "        return \"\"\n",
    "\n",
    "# Run the async function using asyncio\n",
    "asyncio.run(scrape_pdf())"
   ]
  },
  {
   "cell_type": "code",
   "execution_count": null,
   "id": "e930dca2",
   "metadata": {},
   "outputs": [],
   "source": []
  },
  {
   "cell_type": "code",
   "execution_count": null,
   "id": "952a73e0",
   "metadata": {},
   "outputs": [],
   "source": []
  },
  {
   "cell_type": "code",
   "execution_count": null,
   "id": "54b034b1",
   "metadata": {},
   "outputs": [],
   "source": []
  }
 ],
 "metadata": {
  "kernelspec": {
   "display_name": "Python 3 (ipykernel)",
   "language": "python",
   "name": "python3"
  },
  "language_info": {
   "codemirror_mode": {
    "name": "ipython",
    "version": 3
   },
   "file_extension": ".py",
   "mimetype": "text/x-python",
   "name": "python",
   "nbconvert_exporter": "python",
   "pygments_lexer": "ipython3",
   "version": "3.11.0rc2"
  }
 },
 "nbformat": 4,
 "nbformat_minor": 5
}
