{
 "cells": [
  {
   "cell_type": "code",
   "execution_count": 1,
   "id": "69892451",
   "metadata": {},
   "outputs": [
    {
     "name": "stdout",
     "output_type": "stream",
     "text": [
      "Requirement already satisfied: PyPDF2 in /Users/vivekravipatil/.pyenv/versions/3.11.0rc2/lib/python3.11/site-packages (2.11.2)\r\n"
     ]
    }
   ],
   "source": [
    "!pip install PyPDF2"
   ]
  },
  {
   "cell_type": "code",
   "execution_count": 2,
   "id": "6895bf55",
   "metadata": {},
   "outputs": [],
   "source": [
    "import PyPDF2\n",
    "import pandas as pd"
   ]
  },
  {
   "cell_type": "code",
   "execution_count": 3,
   "id": "3cd6e89a",
   "metadata": {},
   "outputs": [],
   "source": [
    "import requests"
   ]
  },
  {
   "cell_type": "code",
   "execution_count": 5,
   "id": "181c9bc7",
   "metadata": {},
   "outputs": [],
   "source": [
    "def download_pdf(url, output_file):\n",
    "    response = requests.get(url)\n",
    "\n",
    "    if response.status_code == 200:\n",
    "        with open(output_file, 'wb') as file:\n",
    "            file.write(response.content)\n",
    "    else:\n",
    "        print(f\"Failed to download the file. Status code: {response.status_code}\")\n",
    "\n",
    "pdf_url = \"https://dol.ny.gov/system/files/documents/2023/04/warn-roses-confections-mohawk-valley-2022-0086-4-7-2023-amendment_0.pdf\"\n",
    "output_path = \"test2.pdf\"\n",
    "\n",
    "download_pdf(pdf_url, output_path)"
   ]
  },
  {
   "cell_type": "code",
   "execution_count": null,
   "id": "ad65d084",
   "metadata": {},
   "outputs": [],
   "source": []
  },
  {
   "cell_type": "code",
   "execution_count": 6,
   "id": "738b1ecf",
   "metadata": {},
   "outputs": [],
   "source": [
    "from bs4 import BeautifulSoup\n",
    "import requests"
   ]
  },
  {
   "cell_type": "code",
   "execution_count": 11,
   "id": "a826038c",
   "metadata": {},
   "outputs": [],
   "source": [
    "def extract_pdf_links(url):\n",
    "    response = requests.get(url)\n",
    "    pdf_links = []\n",
    "\n",
    "    if response.status_code == 200:\n",
    "        soup = BeautifulSoup(response.text, 'html.parser')\n",
    "        for link in soup.find_all('a', href=True):\n",
    "            if link['href'].lower().endswith('.pdf'):\n",
    "                pdf_links.append(link['href'])\n",
    "    else:\n",
    "        print(f\"Failed to fetch the webpage. Status code: {response.status_code}\")\n",
    "\n",
    "    return pdf_links\n",
    "\n",
    "website_url = \"https://dol.ny.gov/warn-notices\"\n",
    "pdf_links = extract_pdf_links(website_url)\n",
    "\n",
    "for pdf_link in pdf_links:\n",
    "    print(pdf_link)"
   ]
  },
  {
   "cell_type": "code",
   "execution_count": 12,
   "id": "6d2865b7",
   "metadata": {},
   "outputs": [
    {
     "data": {
      "text/plain": [
       "[]"
      ]
     },
     "execution_count": 12,
     "metadata": {},
     "output_type": "execute_result"
    }
   ],
   "source": []
  },
  {
   "cell_type": "code",
   "execution_count": 13,
   "id": "56acce73",
   "metadata": {},
   "outputs": [],
   "source": [
    "def extract_pdf_links(url):\n",
    "    response = requests.get(url)\n",
    "    pdf_links = []\n",
    "\n",
    "    if response.status_code == 200:\n",
    "        soup = BeautifulSoup(response.content, 'lxml')\n",
    "        for link in soup.find_all('a', href=True):\n",
    "            if link['href'].lower().endswith('.pdf'):\n",
    "                pdf_links.append(link['href'])\n",
    "    else:\n",
    "        print(f\"Failed to fetch the webpage. Status code: {response.status_code}\")\n",
    "\n",
    "    return pdf_links\n",
    "\n",
    "website_url = \"https://dol.ny.gov/warn-notices\"\n",
    "pdf_links = extract_pdf_links(website_url)\n",
    "\n",
    "for pdf_link in pdf_links:\n",
    "    print(pdf_link)"
   ]
  },
  {
   "cell_type": "code",
   "execution_count": null,
   "id": "88e9aa5d",
   "metadata": {},
   "outputs": [],
   "source": []
  },
  {
   "cell_type": "code",
   "execution_count": 15,
   "id": "ce08f267",
   "metadata": {},
   "outputs": [],
   "source": [
    "import requests\n",
    "from bs4 import BeautifulSoup\n",
    "from urllib.parse import urljoin\n",
    "\n",
    "def extract_pdf_links(url):\n",
    "    response = requests.get(url)\n",
    "    pdf_links = []\n",
    "\n",
    "    if response.status_code == 200:\n",
    "        soup = BeautifulSoup(response.content, 'lxml')\n",
    "        for link in soup.find_all('a', href=True):\n",
    "            if link['href'].lower().endswith('.pdf'):\n",
    "                pdf_links.append(urljoin(url, link['href']))\n",
    "    else:\n",
    "        print(f\"Failed to fetch the webpage. Status code: {response.status_code}\")\n",
    "\n",
    "    return pdf_links\n",
    "\n",
    "website_url = \"https://dol.ny.gov/warn-notices\"\n",
    "pdf_links = extract_pdf_links(website_url)\n",
    "\n",
    "for pdf_link in pdf_links:\n",
    "    print(pdf_link)"
   ]
  },
  {
   "cell_type": "code",
   "execution_count": null,
   "id": "806a0451",
   "metadata": {},
   "outputs": [],
   "source": []
  },
  {
   "cell_type": "code",
   "execution_count": 16,
   "id": "70fec6c3",
   "metadata": {},
   "outputs": [],
   "source": [
    "from playwright.async_api import async_playwright"
   ]
  },
  {
   "cell_type": "code",
   "execution_count": 17,
   "id": "aacca55d",
   "metadata": {},
   "outputs": [],
   "source": [
    "playwright = await async_playwright().start()"
   ]
  },
  {
   "cell_type": "code",
   "execution_count": 18,
   "id": "bc5311b6",
   "metadata": {},
   "outputs": [],
   "source": [
    "browser = await playwright.chromium.launch(headless = False)"
   ]
  },
  {
   "cell_type": "code",
   "execution_count": 19,
   "id": "0798bc6b",
   "metadata": {},
   "outputs": [
    {
     "data": {
      "text/plain": [
       "<coroutine object Browser.new_page at 0x10ff286f0>"
      ]
     },
     "execution_count": 19,
     "metadata": {},
     "output_type": "execute_result"
    }
   ],
   "source": [
    "browser.new_page()"
   ]
  },
  {
   "cell_type": "code",
   "execution_count": 20,
   "id": "9e6c4c61",
   "metadata": {},
   "outputs": [],
   "source": [
    "page = await browser.new_page()"
   ]
  },
  {
   "cell_type": "code",
   "execution_count": 21,
   "id": "e1a5923c",
   "metadata": {},
   "outputs": [
    {
     "data": {
      "text/plain": [
       "<Response url='https://dol.ny.gov/warn-notices' request=<Request url='https://dol.ny.gov/warn-notices' method='GET'>>"
      ]
     },
     "execution_count": 21,
     "metadata": {},
     "output_type": "execute_result"
    }
   ],
   "source": [
    "await page.goto(\"https://dol.ny.gov/warn-notices\")"
   ]
  },
  {
   "cell_type": "code",
   "execution_count": 24,
   "id": "516e88a1",
   "metadata": {},
   "outputs": [
    {
     "ename": "TypeError",
     "evalue": "object Locator can't be used in 'await' expression",
     "output_type": "error",
     "traceback": [
      "\u001b[0;31m---------------------------------------------------------------------------\u001b[0m",
      "\u001b[0;31mTypeError\u001b[0m                                 Traceback (most recent call last)",
      "Cell \u001b[0;32mIn [24], line 1\u001b[0m\n\u001b[0;32m----> 1\u001b[0m \u001b[38;5;28;01mawait\u001b[39;00m page\u001b[38;5;241m.\u001b[39mlocator(\u001b[38;5;124m\"\u001b[39m\u001b[38;5;124ma href\u001b[39m\u001b[38;5;124m\"\u001b[39m)\n",
      "\u001b[0;31mTypeError\u001b[0m: object Locator can't be used in 'await' expression"
     ]
    }
   ],
   "source": [
    "await page.locator(\"a href\")"
   ]
  },
  {
   "cell_type": "code",
   "execution_count": null,
   "id": "4f2ea44f",
   "metadata": {},
   "outputs": [],
   "source": []
  },
  {
   "cell_type": "code",
   "execution_count": 26,
   "id": "aae1738d",
   "metadata": {},
   "outputs": [
    {
     "ename": "RuntimeError",
     "evalue": "asyncio.run() cannot be called from a running event loop",
     "output_type": "error",
     "traceback": [
      "\u001b[0;31m---------------------------------------------------------------------------\u001b[0m",
      "\u001b[0;31mRuntimeError\u001b[0m                              Traceback (most recent call last)",
      "Cell \u001b[0;32mIn [26], line 19\u001b[0m\n\u001b[1;32m     15\u001b[0m     \u001b[38;5;28;01mreturn\u001b[39;00m links\n\u001b[1;32m     17\u001b[0m website_url \u001b[38;5;241m=\u001b[39m \u001b[38;5;124m\"\u001b[39m\u001b[38;5;124mhttps://dol.ny.gov/warn-notices\u001b[39m\u001b[38;5;124m\"\u001b[39m\n\u001b[0;32m---> 19\u001b[0m all_links \u001b[38;5;241m=\u001b[39m \u001b[43masyncio\u001b[49m\u001b[38;5;241;43m.\u001b[39;49m\u001b[43mrun\u001b[49m\u001b[43m(\u001b[49m\u001b[43mextract_links\u001b[49m\u001b[43m(\u001b[49m\u001b[43mwebsite_url\u001b[49m\u001b[43m)\u001b[49m\u001b[43m)\u001b[49m\n\u001b[1;32m     20\u001b[0m \u001b[38;5;28;01mfor\u001b[39;00m link \u001b[38;5;129;01min\u001b[39;00m all_links:\n\u001b[1;32m     21\u001b[0m     \u001b[38;5;28mprint\u001b[39m(link)\n",
      "File \u001b[0;32m~/.pyenv/versions/3.11.0rc2/lib/python3.11/asyncio/runners.py:186\u001b[0m, in \u001b[0;36mrun\u001b[0;34m(main, debug)\u001b[0m\n\u001b[1;32m    161\u001b[0m \u001b[38;5;124;03m\"\"\"Execute the coroutine and return the result.\u001b[39;00m\n\u001b[1;32m    162\u001b[0m \n\u001b[1;32m    163\u001b[0m \u001b[38;5;124;03mThis function runs the passed coroutine, taking care of\u001b[39;00m\n\u001b[0;32m   (...)\u001b[0m\n\u001b[1;32m    182\u001b[0m \u001b[38;5;124;03m    asyncio.run(main())\u001b[39;00m\n\u001b[1;32m    183\u001b[0m \u001b[38;5;124;03m\"\"\"\u001b[39;00m\n\u001b[1;32m    184\u001b[0m \u001b[38;5;28;01mif\u001b[39;00m events\u001b[38;5;241m.\u001b[39m_get_running_loop() \u001b[38;5;129;01mis\u001b[39;00m \u001b[38;5;129;01mnot\u001b[39;00m \u001b[38;5;28;01mNone\u001b[39;00m:\n\u001b[1;32m    185\u001b[0m     \u001b[38;5;66;03m# fail fast with short traceback\u001b[39;00m\n\u001b[0;32m--> 186\u001b[0m     \u001b[38;5;28;01mraise\u001b[39;00m \u001b[38;5;167;01mRuntimeError\u001b[39;00m(\n\u001b[1;32m    187\u001b[0m         \u001b[38;5;124m\"\u001b[39m\u001b[38;5;124masyncio.run() cannot be called from a running event loop\u001b[39m\u001b[38;5;124m\"\u001b[39m)\n\u001b[1;32m    189\u001b[0m \u001b[38;5;28;01mwith\u001b[39;00m Runner(debug\u001b[38;5;241m=\u001b[39mdebug) \u001b[38;5;28;01mas\u001b[39;00m runner:\n\u001b[1;32m    190\u001b[0m     \u001b[38;5;28;01mreturn\u001b[39;00m runner\u001b[38;5;241m.\u001b[39mrun(main)\n",
      "\u001b[0;31mRuntimeError\u001b[0m: asyncio.run() cannot be called from a running event loop"
     ]
    }
   ],
   "source": [
    "\n",
    "async def extract_links(url):\n",
    "    links = []\n",
    "    with sync_playwright() as p:\n",
    "        browser = await p.chromium.launch()\n",
    "        page = await browser.new_page()\n",
    "        await page.goto(url)\n",
    "\n",
    "        link_elements = await page.query_selector_all('a')\n",
    "\n",
    "        for link_element in link_elements:\n",
    "            href = await link_element.get_attribute('href')\n",
    "            links.append(urljoin(url, href))\n",
    "\n",
    "        await browser.close()\n",
    "    return links\n",
    "\n",
    "website_url = \"https://dol.ny.gov/warn-notices\"\n",
    "\n",
    "all_links = asyncio.run(extract_links(website_url))\n",
    "for link in all_links:\n",
    "    print(link)"
   ]
  },
  {
   "cell_type": "code",
   "execution_count": 27,
   "id": "1f17ec58",
   "metadata": {},
   "outputs": [
    {
     "ename": "NameError",
     "evalue": "name 'soup' is not defined",
     "output_type": "error",
     "traceback": [
      "\u001b[0;31m---------------------------------------------------------------------------\u001b[0m",
      "\u001b[0;31mNameError\u001b[0m                                 Traceback (most recent call last)",
      "Cell \u001b[0;32mIn [27], line 10\u001b[0m\n\u001b[1;32m      7\u001b[0m         data\u001b[38;5;241m.\u001b[39mappend([ele \u001b[38;5;28;01mfor\u001b[39;00m ele \u001b[38;5;129;01min\u001b[39;00m cols \u001b[38;5;28;01mif\u001b[39;00m ele])\n\u001b[1;32m      8\u001b[0m     \u001b[38;5;28;01mreturn\u001b[39;00m data\n\u001b[0;32m---> 10\u001b[0m get_links(\u001b[43msoup\u001b[49m)\n",
      "\u001b[0;31mNameError\u001b[0m: name 'soup' is not defined"
     ]
    }
   ],
   "source": [
    "def get_links(table):\n",
    "    data = []\n",
    "    rows = table.find_all('tr')\n",
    "    for row in rows:\n",
    "        cols = row.find_all('a')\n",
    "        cols = [ele.get('href') for ele in cols]\n",
    "        data.append([ele for ele in cols if ele])\n",
    "    return data\n",
    "\n",
    "get_links(soup)\n",
    "\n"
   ]
  },
  {
   "cell_type": "code",
   "execution_count": null,
   "id": "c40ccb95",
   "metadata": {},
   "outputs": [],
   "source": []
  }
 ],
 "metadata": {
  "kernelspec": {
   "display_name": "Python 3 (ipykernel)",
   "language": "python",
   "name": "python3"
  },
  "language_info": {
   "codemirror_mode": {
    "name": "ipython",
    "version": 3
   },
   "file_extension": ".py",
   "mimetype": "text/x-python",
   "name": "python",
   "nbconvert_exporter": "python",
   "pygments_lexer": "ipython3",
   "version": "3.11.0rc2"
  }
 },
 "nbformat": 4,
 "nbformat_minor": 5
}
